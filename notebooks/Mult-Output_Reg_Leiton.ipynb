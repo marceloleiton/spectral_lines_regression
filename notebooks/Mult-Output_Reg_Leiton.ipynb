{
 "cells": [
  {
   "cell_type": "code",
   "execution_count": 1,
   "id": "e49f1950",
   "metadata": {},
   "outputs": [],
   "source": [
    "import numpy as np\n",
    "import matplotlib.pyplot as plt\n",
    "from sklearn.ensemble import RandomForestRegressor\n",
    "from sklearn.model_selection import train_test_split\n",
    "from sklearn.multioutput import MultiOutputRegressor\n"
   ]
  },
  {
   "cell_type": "code",
   "execution_count": 2,
   "id": "5a09adf1",
   "metadata": {},
   "outputs": [],
   "source": [
    "import glob\n",
    "import pandas as pd\n",
    "from matplotlib import pyplot as plt\n",
    "import shutil\n"
   ]
  },
  {
   "cell_type": "code",
   "execution_count": 3,
   "id": "f53437da",
   "metadata": {},
   "outputs": [],
   "source": [
    "def string2params(string, show=True):\n",
    "    s1 = string.partition(\"g\")\n",
    "    t = s1[0][1:]\n",
    "    s2 = s1[2].partition(\"v\")\n",
    "    g = s2[0]\n",
    "    v = s2[-1]\n",
    "    if show:\n",
    "        print(s1)\n",
    "        print(\"t:\",t)\n",
    "        print(s2)\n",
    "        print(\"g: \",float(g)/10)\n",
    "        print(\"v:\", v)\n",
    "    return float(t), float(g)/10, float(v)"
   ]
  },
  {
   "cell_type": "code",
   "execution_count": 4,
   "id": "8b2c74b1",
   "metadata": {},
   "outputs": [
    {
     "name": "stdout",
     "output_type": "stream",
     "text": [
      "Number of files in models 5425\n"
     ]
    }
   ],
   "source": [
    "files = glob.glob('filtered_wv_models/*')\n",
    "m = len(files)\n",
    "print(\"Number of files in models\", m)\n"
   ]
  },
  {
   "cell_type": "code",
   "execution_count": 5,
   "id": "da50274f",
   "metadata": {},
   "outputs": [
    {
     "data": {
      "text/plain": [
       "(201,)"
      ]
     },
     "metadata": {},
     "output_type": "display_data"
    },
    {
     "name": "stdout",
     "output_type": "stream",
     "text": [
      "Num. of points in x axis:  201\n"
     ]
    }
   ],
   "source": [
    "y = np.zeros((m,3))\n",
    "df = pd.read_csv(files[0], sep=\" \", header=None)\n",
    "x_points = df[0].values\n",
    "n_points, n_columns = df.shape\n",
    "display(df[1].values.shape)\n",
    "print(\"Num. of points in x axis: \", n_points)"
   ]
  },
  {
   "cell_type": "code",
   "execution_count": 6,
   "id": "ac7df78e",
   "metadata": {},
   "outputs": [],
   "source": [
    "# X matrix contains the spectral lines\n",
    "X = np.zeros((m,n_points))\n",
    "# y matrix contains the labels of each spectral line\n",
    "y = np.zeros((m,3))\n",
    "for i,name in enumerate(files):\n",
    "    file_name = name.split(\"/\")[-1].split(\".\")[0]\n",
    "    #print(file_name)\n",
    "    df = pd.read_csv(name, sep=\" \", header=None)\n",
    "    #print(file_name.split(\"_\")[1])\n",
    "    t,g,v = string2params(file_name.split(\"_\")[1], show=False)\n",
    "    X[i,:] = df[1].values\n",
    "    y[i] = t,g,v\n",
    "    #print(\"----\")"
   ]
  },
  {
   "cell_type": "code",
   "execution_count": 7,
   "id": "5f103ebd",
   "metadata": {},
   "outputs": [],
   "source": [
    "def train_val_test_split(X, y, train_size, val_size, test_size, random_state = 1):\n",
    "    if train_size + val_size + test_size != 1.0:\n",
    "        print(\"Incorrect sizes!\")\n",
    "        return None\n",
    "    \n",
    "    X_tmp, X_test, y_tmp, y_test = train_test_split(X, y, test_size = test_size, random_state=random_state)\n",
    "    X_train, X_val, y_train, y_val = train_test_split(X_tmp, y_tmp, test_size = val_size/(test_size + train_size), random_state=random_state)\n",
    "    return X_train, X_val, X_test, y_train, y_val, y_test"
   ]
  },
  {
   "cell_type": "code",
   "execution_count": 8,
   "id": "a959f295",
   "metadata": {},
   "outputs": [],
   "source": [
    "X_train, X_val, X_test, y_train, y_val, y_test = train_val_test_split(X, y, .8, .1, .1)"
   ]
  },
  {
   "cell_type": "code",
   "execution_count": 9,
   "id": "31c43ae9",
   "metadata": {},
   "outputs": [
    {
     "name": "stdout",
     "output_type": "stream",
     "text": [
      "Parameters currently in use:\n",
      "\n",
      "{'bootstrap': True,\n",
      " 'ccp_alpha': 0.0,\n",
      " 'criterion': 'squared_error',\n",
      " 'max_depth': None,\n",
      " 'max_features': 'auto',\n",
      " 'max_leaf_nodes': None,\n",
      " 'max_samples': None,\n",
      " 'min_impurity_decrease': 0.0,\n",
      " 'min_samples_leaf': 1,\n",
      " 'min_samples_split': 2,\n",
      " 'min_weight_fraction_leaf': 0.0,\n",
      " 'n_estimators': 100,\n",
      " 'n_jobs': None,\n",
      " 'oob_score': False,\n",
      " 'random_state': 42,\n",
      " 'verbose': 0,\n",
      " 'warm_start': False}\n"
     ]
    }
   ],
   "source": [
    "rf = RandomForestRegressor(random_state = 42)\n",
    "\n",
    "from pprint import pprint\n",
    "\n",
    "# Look at parameters used by our current forest\n",
    "print('Parameters currently in use:\\n')\n",
    "pprint(rf.get_params())"
   ]
  },
  {
   "cell_type": "code",
   "execution_count": 10,
   "id": "5b94e28c",
   "metadata": {},
   "outputs": [
    {
     "name": "stdout",
     "output_type": "stream",
     "text": [
      "{'bootstrap': [True, False],\n",
      " 'max_depth': [10, 20, 30, 40, 50, 60, 70, 80, 90, 100, 110, None],\n",
      " 'max_features': ['auto', 'sqrt'],\n",
      " 'min_samples_leaf': [1, 2, 4],\n",
      " 'min_samples_split': [2, 5, 10],\n",
      " 'n_estimators': [200, 400, 600, 800, 1000, 1200, 1400, 1600, 1800, 2000]}\n"
     ]
    }
   ],
   "source": [
    "from sklearn.model_selection import RandomizedSearchCV\n",
    "\n",
    "# Number of trees in random forest\n",
    "n_estimators = [int(x) for x in np.linspace(start = 200, stop = 2000, num = 10)]\n",
    "# Number of features to consider at every split\n",
    "max_features = ['auto', 'sqrt']\n",
    "# Maximum number of levels in tree\n",
    "max_depth = [int(x) for x in np.linspace(10, 110, num = 11)]\n",
    "max_depth.append(None)\n",
    "# Minimum number of samples required to split a node\n",
    "min_samples_split = [2, 5, 10]\n",
    "# Minimum number of samples required at each leaf node\n",
    "min_samples_leaf = [1, 2, 4]\n",
    "# Method of selecting samples for training each tree\n",
    "bootstrap = [True, False]\n",
    "\n",
    "# Create the random grid\n",
    "random_grid = {'n_estimators': n_estimators,\n",
    "               'max_features': max_features,\n",
    "               'max_depth': max_depth,\n",
    "               'min_samples_split': min_samples_split,\n",
    "               'min_samples_leaf': min_samples_leaf,\n",
    "               'bootstrap': bootstrap}\n",
    "\n",
    "pprint(random_grid)"
   ]
  },
  {
   "cell_type": "code",
   "execution_count": null,
   "id": "1425c4e1",
   "metadata": {},
   "outputs": [
    {
     "name": "stdout",
     "output_type": "stream",
     "text": [
      "Fitting 3 folds for each of 8 candidates, totalling 24 fits\n"
     ]
    }
   ],
   "source": [
    "# Use the random grid to search for best hyperparameters\n",
    "# First create the base model to tune\n",
    "rf = RandomForestRegressor(random_state = 42)\n",
    "# Random search of parameters, using 3 fold cross validation, \n",
    "# search across 100 different combinations, and use all available cores\n",
    "rf_random = RandomizedSearchCV(estimator=rf, param_distributions=random_grid,\n",
    "                              n_iter = 8, scoring='neg_mean_absolute_error', \n",
    "                              cv = 3, verbose=2, random_state=42, n_jobs=-1,\n",
    "                              return_train_score=True)\n",
    "\n",
    "# Fit the random search model\n",
    "rf_random.fit(X_train, y_train);"
   ]
  },
  {
   "cell_type": "code",
   "execution_count": null,
   "id": "40c2e829",
   "metadata": {},
   "outputs": [],
   "source": [
    "rf_random.best_params_"
   ]
  },
  {
   "cell_type": "code",
   "execution_count": null,
   "id": "64383a05",
   "metadata": {},
   "outputs": [],
   "source": [
    "max_depth = 3\n",
    "regr_multirf = MultiOutputRegressor(\n",
    "    RandomForestRegressor(n_estimators=3, max_depth=max_depth, random_state=0)\n",
    ")\n",
    "regr_multirf.fit(X_train, y_train)"
   ]
  },
  {
   "cell_type": "code",
   "execution_count": null,
   "id": "d339cc45",
   "metadata": {},
   "outputs": [],
   "source": [
    "y_multirf = regr_multirf.predict(X_test)"
   ]
  },
  {
   "cell_type": "code",
   "execution_count": null,
   "id": "bb81b041",
   "metadata": {},
   "outputs": [],
   "source": [
    "y_multirf"
   ]
  },
  {
   "cell_type": "code",
   "execution_count": null,
   "id": "ecf2f66d",
   "metadata": {},
   "outputs": [],
   "source": [
    "r_score= regr_multirf.score(X_test,y_test)"
   ]
  },
  {
   "cell_type": "code",
   "execution_count": null,
   "id": "abd67f2c",
   "metadata": {},
   "outputs": [],
   "source": [
    "r_score"
   ]
  },
  {
   "cell_type": "code",
   "execution_count": null,
   "id": "a93df480",
   "metadata": {},
   "outputs": [],
   "source": [
    "def mard(y_test, y_multirf):\n",
    "    #y_test, y_multirf = np.array(y_test), np.array(y_multirf)\n",
    "    return (np.mean(np.abs(y_test - y_multirf)/y_multirf))"
   ]
  },
  {
   "cell_type": "code",
   "execution_count": null,
   "id": "0ee3ec66",
   "metadata": {},
   "outputs": [],
   "source": [
    "mard(y_test[:,0], y_multirf[:,0])"
   ]
  },
  {
   "cell_type": "code",
   "execution_count": null,
   "id": "47df47bb",
   "metadata": {},
   "outputs": [],
   "source": [
    "from sklearn.metrics import mean_absolute_error\n",
    "print(\"MAE Teff\")\n",
    "mean_absolute_error(y_test[:,0], y_multirf[:,0])"
   ]
  },
  {
   "cell_type": "code",
   "execution_count": null,
   "id": "cf118a80",
   "metadata": {},
   "outputs": [],
   "source": [
    "print(\"MAE Log(g)\")\n",
    "mean_absolute_error(y_test[:,1], y_multirf[:,1])"
   ]
  },
  {
   "cell_type": "code",
   "execution_count": null,
   "id": "2406ac1a",
   "metadata": {},
   "outputs": [],
   "source": [
    "mard(y_test[:,1], y_multirf[:,1])"
   ]
  },
  {
   "cell_type": "code",
   "execution_count": null,
   "id": "a5f3de0b",
   "metadata": {},
   "outputs": [],
   "source": [
    "print(\"MAE Vroot\")\n",
    "mean_absolute_error(y_test[:,2], y_multirf[:,2])"
   ]
  },
  {
   "cell_type": "code",
   "execution_count": null,
   "id": "70528579",
   "metadata": {},
   "outputs": [],
   "source": [
    "mard(y_test[:,1], y_multirf[:,1])"
   ]
  },
  {
   "cell_type": "code",
   "execution_count": null,
   "id": "34aa8aec",
   "metadata": {},
   "outputs": [],
   "source": [
    "import seaborn as sns\n",
    "from matplotlib import pyplot as plt\n",
    "\n",
    "sns.set_theme(style=\"whitegrid\")\n",
    "\n",
    "plt.figure()\n",
    "plt.hist(y_test[:,0], label=\"Testing\")\n",
    "plt.hist(y_multirf[:,0], label=\"Pred\", histtype='step')\n",
    "plt.title(\"T_eff\")\n",
    "plt.legend(loc=\"best\")\n",
    "plt.show()"
   ]
  },
  {
   "cell_type": "code",
   "execution_count": null,
   "id": "77937454",
   "metadata": {},
   "outputs": [],
   "source": [
    "plt.figure()\n",
    "plt.hist(y_test[:,1], label=\"Testing\")\n",
    "plt.hist(y_multirf[:,1], label=\"Pred\", histtype='step')\n",
    "plt.title(\"Log g\")\n",
    "plt.legend(loc=\"best\")\n",
    "plt.show()"
   ]
  },
  {
   "cell_type": "code",
   "execution_count": null,
   "id": "62c0f12e",
   "metadata": {},
   "outputs": [],
   "source": [
    "plt.figure()\n",
    "plt.hist(y_test[:,2], label=\"Testing\")\n",
    "plt.hist(y_multirf[:,2], label=\"Pred\", histtype='step')\n",
    "plt.title(\"v_rot\")\n",
    "plt.legend(loc=\"best\")\n",
    "plt.show()"
   ]
  },
  {
   "cell_type": "code",
   "execution_count": null,
   "id": "9a622031",
   "metadata": {},
   "outputs": [],
   "source": [
    "df = pd.read_csv(\"BESOS/2_Be_stars/HD33328/PUCHEROS/hd33328_2013-02-26_00-55-34_final_corr.txt\", sep=\"\\t\", header=None)\n",
    "\n",
    "m1 = df[0] >= 4460\n",
    "m2 = df[0] <= 4480\n",
    "\n",
    "df2 = df[m1][m2]\n",
    "\n",
    "n = 201  # for 2 random indices\n",
    "index = np.random.choice(df2[0].shape[0], n, replace=False) "
   ]
  },
  {
   "cell_type": "code",
   "execution_count": null,
   "id": "15b76c5e",
   "metadata": {},
   "outputs": [],
   "source": [
    "index.sort()"
   ]
  },
  {
   "cell_type": "code",
   "execution_count": null,
   "id": "138e2c9b",
   "metadata": {},
   "outputs": [],
   "source": [
    "obs_wave = df2[0].values[index]\n",
    "obs_flux = df2[1].values[index]"
   ]
  },
  {
   "cell_type": "code",
   "execution_count": null,
   "id": "b67b32a0",
   "metadata": {},
   "outputs": [],
   "source": [
    "plt.figure(figsize=(8,6))\n",
    "plt.plot(obs_wave, obs_flux, label=\"Línea observada (201 pts)\")\n",
    "#plt.plot(df4[0], df4[1], label=\"Modelo\")\n",
    "plt.legend(loc=\"best\")\n",
    "plt.show()"
   ]
  },
  {
   "cell_type": "code",
   "execution_count": null,
   "id": "4a101732",
   "metadata": {},
   "outputs": [],
   "source": [
    "pred_obs = regr_multirf.predict(obs_flux.reshape(1,201))"
   ]
  },
  {
   "cell_type": "code",
   "execution_count": null,
   "id": "7cc62101",
   "metadata": {},
   "outputs": [],
   "source": [
    "pred_obs"
   ]
  },
  {
   "cell_type": "code",
   "execution_count": null,
   "id": "7e960a7b",
   "metadata": {},
   "outputs": [],
   "source": [
    "print(pred_obs[0,0])\n",
    "print(pred_obs[0,1])\n",
    "print(pred_obs[0,2])"
   ]
  },
  {
   "cell_type": "code",
   "execution_count": null,
   "id": "3ec86b09",
   "metadata": {},
   "outputs": [],
   "source": [
    "X.min()"
   ]
  },
  {
   "cell_type": "code",
   "execution_count": null,
   "id": "4097147f",
   "metadata": {},
   "outputs": [],
   "source": [
    "X.max()"
   ]
  },
  {
   "cell_type": "code",
   "execution_count": null,
   "id": "a6e97f0d",
   "metadata": {},
   "outputs": [],
   "source": []
  },
  {
   "cell_type": "code",
   "execution_count": null,
   "id": "77b111a7",
   "metadata": {},
   "outputs": [],
   "source": []
  }
 ],
 "metadata": {
  "kernelspec": {
   "display_name": "Python 3 (ipykernel)",
   "language": "python",
   "name": "python3"
  },
  "language_info": {
   "codemirror_mode": {
    "name": "ipython",
    "version": 3
   },
   "file_extension": ".py",
   "mimetype": "text/x-python",
   "name": "python",
   "nbconvert_exporter": "python",
   "pygments_lexer": "ipython3",
   "version": "3.10.6"
  }
 },
 "nbformat": 4,
 "nbformat_minor": 5
}
